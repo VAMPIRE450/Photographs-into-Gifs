{
 "cells": [
  {
   "cell_type": "code",
   "execution_count": 2,
   "id": "e2ebc04f-f6b4-4ae2-a8d7-dc8987231864",
   "metadata": {},
   "outputs": [
    {
     "name": "stdout",
     "output_type": "stream",
     "text": [
      "Scanning for images in folder: C:/Users/Resham/OneDrive/Desktop/hanuman\n",
      "Found 7 images. Proceeding to create GIF.\n",
      "Creating GIF from 7 images with each frame duration: 0.43 seconds\n",
      "Loading image: C:/Users/Resham/OneDrive/Desktop/hanuman\\WhatsApp Image 2025-01-12 at 23.27.30_8c177248.jpg\n",
      "Loading image: C:/Users/Resham/OneDrive/Desktop/hanuman\\WhatsApp Image 2025-01-12 at 23.27.30_f321dcef.jpg\n",
      "Loading image: C:/Users/Resham/OneDrive/Desktop/hanuman\\WhatsApp Image 2025-01-12 at 23.27.31_1f2d8b26.jpg\n",
      "Loading image: C:/Users/Resham/OneDrive/Desktop/hanuman\\WhatsApp Image 2025-01-12 at 23.27.31_3b455281.jpg\n",
      "Loading image: C:/Users/Resham/OneDrive/Desktop/hanuman\\WhatsApp Image 2025-01-12 at 23.27.31_77610697.jpg\n",
      "Loading image: C:/Users/Resham/OneDrive/Desktop/hanuman\\WhatsApp Image 2025-01-12 at 23.27.31_938a8ec7.jpg\n",
      "Loading image: C:/Users/Resham/OneDrive/Desktop/hanuman\\hanuman.jpeg\n",
      "Saving GIF as output.gif...\n",
      "GIF saved successfully at output.gif\n"
     ]
    }
   ],
   "source": [
    "from PIL import Image\n",
    "import os\n",
    "\n",
    "def create_gif(input_images, output_gif, total_duration=3):\n",
    "    \"\"\"\n",
    "    Create a GIF from a list of input images.\n",
    "\n",
    "    :param input_images: List of image file paths\n",
    "    :param output_gif: Output GIF file path\n",
    "    :param total_duration: Total duration of the GIF in seconds\n",
    "    \"\"\"\n",
    "    # Calculate duration for each frame based on the total duration and number of frames\n",
    "    frame_duration = total_duration / len(input_images)\n",
    "    print(f\"Creating GIF from {len(input_images)} images with each frame duration: {frame_duration:.2f} seconds\")\n",
    "\n",
    "    # Open images and append them to a list\n",
    "    frames = []\n",
    "    for image_path in input_images:\n",
    "        print(f\"Loading image: {image_path}\")\n",
    "        frame = Image.open(image_path)\n",
    "        frames.append(frame)\n",
    "\n",
    "    # Save as GIF with specified frame duration\n",
    "    print(f\"Saving GIF as {output_gif}...\")\n",
    "    frames[0].save(output_gif, save_all=True, append_images=frames[1:], duration=int(frame_duration * 1000), loop=0)\n",
    "    print(f\"GIF saved successfully at {output_gif}\")\n",
    "\n",
    "def convert_to_gif(image_folder, output_gif, total_duration=3):\n",
    "    \"\"\"\n",
    "    Convert all images in a folder into a GIF.\n",
    "\n",
    "    :param image_folder: Folder containing image files\n",
    "    :param output_gif: Output GIF file path\n",
    "    :param total_duration: Total duration of the GIF in seconds\n",
    "    \"\"\"\n",
    "    print(f\"Scanning for images in folder: {image_folder}\")\n",
    "    \n",
    "    # Get all image files in the folder\n",
    "    image_files = [\n",
    "        os.path.join(image_folder, f)\n",
    "        for f in sorted(os.listdir(image_folder))\n",
    "        if f.endswith(('.png', '.jpg', '.jpeg'))\n",
    "    ]\n",
    "\n",
    "    if not image_files:\n",
    "        print(\"No images found in the folder.\")\n",
    "        return\n",
    "\n",
    "    print(f\"Found {len(image_files)} images. Proceeding to create GIF.\")\n",
    "    create_gif(image_files, output_gif, total_duration)\n",
    "\n",
    "# Example usage\n",
    "input_folder = 'C:/Users/Resham/OneDrive/Desktop/hanuman'  # Change this to your image folder path\n",
    "output_gif = 'output.gif'  # Output GIF filename\n",
    "\n",
    "# Generate a GIF with a total duration of 3 seconds\n",
    "convert_to_gif(input_folder, output_gif, total_duration=3)\n",
    "\n"
   ]
  }
 ],
 "metadata": {
  "kernelspec": {
   "display_name": "Python 3 (ipykernel)",
   "language": "python",
   "name": "python3"
  },
  "language_info": {
   "codemirror_mode": {
    "name": "ipython",
    "version": 3
   },
   "file_extension": ".py",
   "mimetype": "text/x-python",
   "name": "python",
   "nbconvert_exporter": "python",
   "pygments_lexer": "ipython3",
   "version": "3.13.1"
  }
 },
 "nbformat": 4,
 "nbformat_minor": 5
}
